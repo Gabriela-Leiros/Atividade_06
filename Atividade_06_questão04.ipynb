{
  "nbformat": 4,
  "nbformat_minor": 0,
  "metadata": {
    "colab": {
      "provenance": [],
      "authorship_tag": "ABX9TyOHXB6QYgQKAkGGmvxijQb6",
      "include_colab_link": true
    },
    "kernelspec": {
      "name": "python3",
      "display_name": "Python 3"
    },
    "language_info": {
      "name": "python"
    }
  },
  "cells": [
    {
      "cell_type": "markdown",
      "metadata": {
        "id": "view-in-github",
        "colab_type": "text"
      },
      "source": [
        "<a href=\"https://colab.research.google.com/github/Gabriela-Leiros/Atividade_06/blob/main/Atividade_06_quest%C3%A3o04.ipynb\" target=\"_parent\"><img src=\"https://colab.research.google.com/assets/colab-badge.svg\" alt=\"Open In Colab\"/></a>"
      ]
    },
    {
      "cell_type": "code",
      "execution_count": 4,
      "metadata": {
        "colab": {
          "base_uri": "https://localhost:8080/"
        },
        "id": "ovoEAnPY0ayK",
        "outputId": "a33e36e7-e6c9-46d3-8a6e-73f454c68493"
      },
      "outputs": [
        {
          "output_type": "stream",
          "name": "stdout",
          "text": [
            "[[6, 8], [10, 12]]\n"
          ]
        }
      ],
      "source": [
        "#Matriz bidimensional: Soma de matrizes\n",
        "\n",
        "def soma_matrizes(matriz_1, matriz_2):\n",
        "  resultado = [[0,0],[0,0]]\n",
        "\n",
        "  for i in range(2):\n",
        "    for j in range(2):\n",
        "      resultado[i][j] = matriz_1[i][j] + matriz_2[i][j]\n",
        "  return resultado\n",
        "\n",
        "matriz_1 = [[1,2],[3,4]]\n",
        "matriz_2 = [[5,6],[7,8]]\n",
        "\n",
        "print(soma_matrizes(matriz_1, matriz_2))"
      ]
    }
  ]
}