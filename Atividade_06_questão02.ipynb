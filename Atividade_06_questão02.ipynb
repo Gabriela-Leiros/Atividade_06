{
  "nbformat": 4,
  "nbformat_minor": 0,
  "metadata": {
    "colab": {
      "provenance": [],
      "authorship_tag": "ABX9TyPRMAlmfB1tye0pn/vmzstx",
      "include_colab_link": true
    },
    "kernelspec": {
      "name": "python3",
      "display_name": "Python 3"
    },
    "language_info": {
      "name": "python"
    }
  },
  "cells": [
    {
      "cell_type": "markdown",
      "metadata": {
        "id": "view-in-github",
        "colab_type": "text"
      },
      "source": [
        "<a href=\"https://colab.research.google.com/github/Gabriela-Leiros/Atividade_06/blob/main/Atividade_06_quest%C3%A3o02.ipynb\" target=\"_parent\"><img src=\"https://colab.research.google.com/assets/colab-badge.svg\" alt=\"Open In Colab\"/></a>"
      ]
    },
    {
      "cell_type": "code",
      "execution_count": 2,
      "metadata": {
        "colab": {
          "base_uri": "https://localhost:8080/"
        },
        "id": "IyjnpSEivjeg",
        "outputId": "5d7ac9e8-dbe6-4344-bdcd-c218185221f6"
      },
      "outputs": [
        {
          "output_type": "stream",
          "name": "stdout",
          "text": [
            "12\n"
          ]
        }
      ],
      "source": [
        "#Vetor soma de elementos pares\n",
        "\n",
        "def soma_pares(vetor):\n",
        "    soma = 0\n",
        "    for numero in vetor:\n",
        "        if numero % 2 == 0:\n",
        "            soma += numero\n",
        "    return soma\n",
        "    return soma\n",
        "\n",
        "print(soma_pares([1, 2, 3, 4, 5, 6]))\n"
      ]
    }
  ]
}