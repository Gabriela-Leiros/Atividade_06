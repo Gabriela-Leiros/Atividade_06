{
  "nbformat": 4,
  "nbformat_minor": 0,
  "metadata": {
    "colab": {
      "provenance": [],
      "authorship_tag": "ABX9TyOorHNfZeHfxB/ZdEphKafj",
      "include_colab_link": true
    },
    "kernelspec": {
      "name": "python3",
      "display_name": "Python 3"
    },
    "language_info": {
      "name": "python"
    }
  },
  "cells": [
    {
      "cell_type": "markdown",
      "metadata": {
        "id": "view-in-github",
        "colab_type": "text"
      },
      "source": [
        "<a href=\"https://colab.research.google.com/github/Gabriela-Leiros/Atividade_06/blob/main/Atividade_06_quest%C3%A3o01.ipynb\" target=\"_parent\"><img src=\"https://colab.research.google.com/assets/colab-badge.svg\" alt=\"Open In Colab\"/></a>"
      ]
    },
    {
      "cell_type": "code",
      "execution_count": 24,
      "metadata": {
        "colab": {
          "base_uri": "https://localhost:8080/"
        },
        "id": "aasnyaCoq9pY",
        "outputId": "e4786bd1-43b5-44ce-d084-a0b93b047480"
      },
      "outputs": [
        {
          "output_type": "stream",
          "name": "stdout",
          "text": [
            "120\n"
          ]
        }
      ],
      "source": [
        "#Calculo do fatorial\n",
        "\n",
        "def fatorial(n):\n",
        "    if n < 0:\n",
        "        return \"Não existe fatorial de número negativo\"\n",
        "    elif n == 0:\n",
        "        return 1\n",
        "    else:\n",
        "        return n * fatorial(n-1)\n",
        "\n",
        "print(fatorial(5))"
      ]
    }
  ]
}