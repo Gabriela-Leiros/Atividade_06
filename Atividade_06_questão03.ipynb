{
  "nbformat": 4,
  "nbformat_minor": 0,
  "metadata": {
    "colab": {
      "provenance": [],
      "authorship_tag": "ABX9TyPW7xU7Kzo5hdEV1DlNdfpB",
      "include_colab_link": true
    },
    "kernelspec": {
      "name": "python3",
      "display_name": "Python 3"
    },
    "language_info": {
      "name": "python"
    }
  },
  "cells": [
    {
      "cell_type": "markdown",
      "metadata": {
        "id": "view-in-github",
        "colab_type": "text"
      },
      "source": [
        "<a href=\"https://colab.research.google.com/github/Gabriela-Leiros/Atividade_06/blob/main/Atividade_06_quest%C3%A3o03.ipynb\" target=\"_parent\"><img src=\"https://colab.research.google.com/assets/colab-badge.svg\" alt=\"Open In Colab\"/></a>"
      ]
    },
    {
      "cell_type": "code",
      "execution_count": 21,
      "metadata": {
        "colab": {
          "base_uri": "https://localhost:8080/"
        },
        "id": "I0O4P5ebwe2Q",
        "outputId": "0b46ea20-1437-4331-c77b-54765f7e7ae6"
      },
      "outputs": [
        {
          "output_type": "stream",
          "name": "stdout",
          "text": [
            "por favor, me informe a temperatura em Celsius:  0\n",
            "32.0\n"
          ]
        }
      ],
      "source": [
        "#Input/output conversor de temperatura\n",
        "\n",
        "def conversor_de_temperatura():\n",
        "  C = float(input(\"por favor, me informe a temperatura em Celsius:  \"))\n",
        "  F = float(C * 9/5 + 32)\n",
        "\n",
        "  return F\n",
        "\n",
        "print(conversor_de_temperatura())\n"
      ]
    }
  ]
}